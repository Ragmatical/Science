{
 "cells": [
  {
   "cell_type": "markdown",
   "metadata": {},
   "source": [
    "# Feature Analysis of Website Imagery Content"
   ]
  },
  {
   "cell_type": "markdown",
   "metadata": {},
   "source": [
    "## Imports"
   ]
  },
  {
   "cell_type": "code",
   "execution_count": 15,
   "metadata": {},
   "outputs": [],
   "source": [
    "import numpy as pd\n",
    "import pandas as pd\n",
    "import pprint\n",
    "import os\n",
    "import pymongo\n",
    "import random\n",
    "import re\n",
    "import nltk\n",
    "from nltk.corpus import stopwords\n",
    "from IPython.core.display import display, HTML\n",
    "from bs4 import BeautifulSoup\n",
    "from pymongo import MongoClient\n",
    "from PIL import Image\n",
    "from gridfs import GridFS\n",
    "from sklearn.ensemble import RandomForestClassifier\n",
    "from numpy.core.umath_tests import inner1d"
   ]
  },
  {
   "cell_type": "markdown",
   "metadata": {},
   "source": [
    "## Inputs"
   ]
  },
  {
   "cell_type": "code",
   "execution_count": 16,
   "metadata": {},
   "outputs": [],
   "source": [
    "percent_training = 0.8\n",
    "client = MongoClient(open('../../db.txt', encoding='UTF-8').read())\n",
    "db = client.knowledge"
   ]
  },
  {
   "cell_type": "markdown",
   "metadata": {},
   "source": [
    "## Data Collection"
   ]
  },
  {
   "cell_type": "code",
   "execution_count": 17,
   "metadata": {},
   "outputs": [
    {
     "name": "stdout",
     "output_type": "stream",
     "text": [
      "                        _id  averageBlue  averageGreen  averageRed colorCount  \\\n",
      "0  5bd5202204c0591b776aeb2e     1.750000      1.750000    1.750000          1   \n",
      "1  5bd5203804c0591b776aeb2f     1.326043      1.339848    1.367402        290   \n",
      "2  5bd5267d04c0591b776aeb30     1.614444      1.593742    1.527081         39   \n",
      "3  5bd5268104c0591b776aeb31     1.593981      1.563667    1.461685         85   \n",
      "4  5bddd8d8fcab5fa6b04cb12c     1.666679      1.663924    1.660496         91   \n",
      "\n",
      "  label mostPopular                                                url  \\\n",
      "0     y         777         https://id.pausd.org/portal/p/applications   \n",
      "1     m         777                           https://www.youtube.com/   \n",
      "2     y         777  https://www.kaggle.com/juustiiiin/textscraper/...   \n",
      "3     y         777                            https://www.kaggle.com/   \n",
      "4     y         777  https://github.com/boovines/dataLabeler/blob/m...   \n",
      "\n",
      "   educational  \n",
      "0            1  \n",
      "1            0  \n",
      "2            1  \n",
      "3            1  \n",
      "4            1  \n"
     ]
    }
   ],
   "source": [
    "labels = db.labels\n",
    "\n",
    "data = labels.find({'colorCount':{'$ne':None}}, {'_id':1,'url':1,'label':1,'colorCount':1,'mostPopular':1,'averageRed':1,'averageGreen':1,'averageBlue':1})\n",
    "\n",
    "table = pd.DataFrame([item for item in data])\n",
    "table = table.assign(educational=table['label'].map(lambda r: 1 if r=='y' else 0))\n",
    "print(table.head())"
   ]
  },
  {
   "cell_type": "markdown",
   "metadata": {},
   "source": [
    "## Feature Extraction"
   ]
  },
  {
   "cell_type": "code",
   "execution_count": 18,
   "metadata": {
    "scrolled": true
   },
   "outputs": [
    {
     "name": "stdout",
     "output_type": "stream",
     "text": [
      "                        _id  averageBlue  averageGreen  averageRed colorCount  \\\n",
      "0  5bd5202204c0591b776aeb2e     1.750000      1.750000    1.750000          1   \n",
      "1  5bd5203804c0591b776aeb2f     1.326043      1.339848    1.367402        290   \n",
      "2  5bd5267d04c0591b776aeb30     1.614444      1.593742    1.527081         39   \n",
      "3  5bd5268104c0591b776aeb31     1.593981      1.563667    1.461685         85   \n",
      "4  5bddd8d8fcab5fa6b04cb12c     1.666679      1.663924    1.660496         91   \n",
      "\n",
      "  label mostPopular                                                url  \\\n",
      "0     y         777         https://id.pausd.org/portal/p/applications   \n",
      "1     m         777                           https://www.youtube.com/   \n",
      "2     y         777  https://www.kaggle.com/juustiiiin/textscraper/...   \n",
      "3     y         777                            https://www.kaggle.com/   \n",
      "4     y         777  https://github.com/boovines/dataLabeler/blob/m...   \n",
      "\n",
      "   educational                                      featureVector  \n",
      "0            1                         [1.75, 1.75, 1.75, 1, 777]  \n",
      "1            0  [1.3674016873278236, 1.3398476239669421, 1.326...  \n",
      "2            1  [1.5270810688405798, 1.5937423573369565, 1.614...  \n",
      "3            1  [1.4616849566691785, 1.5636673417483045, 1.593...  \n",
      "4            1  [1.660496116703392, 1.6639238667284322, 1.6666...  \n"
     ]
    }
   ],
   "source": [
    "def vectorizeMe(averageRed, averageGreen, averageBlue, colorCount, mostPopular):\n",
    "    return [float(averageRed), float(averageGreen), float(averageBlue), int(colorCount), int(mostPopular)]\n",
    "\n",
    "interesting_rows = [r.tolist() for r in table[['averageRed','averageGreen', 'averageBlue','colorCount', 'mostPopular'][0:5]].values]\n",
    "\n",
    "vectorized_rows = [vectorizeMe(row[0],row[1],row[2],row[3],row[4]) for row in interesting_rows]\n",
    "\n",
    "table = table.assign(featureVector=vectorized_rows)\n",
    "\n",
    "print(table.head())\n"
   ]
  },
  {
   "cell_type": "markdown",
   "metadata": {},
   "source": [
    "## Training Data"
   ]
  },
  {
   "cell_type": "code",
   "execution_count": 21,
   "metadata": {},
   "outputs": [
    {
     "name": "stdout",
     "output_type": "stream",
     "text": [
      "<class 'pandas.core.frame.DataFrame'>\n",
      "Int64Index: 91 entries, 61 to 43\n",
      "Data columns (total 10 columns):\n",
      "_id              91 non-null object\n",
      "averageBlue      91 non-null float64\n",
      "averageGreen     91 non-null float64\n",
      "averageRed       91 non-null float64\n",
      "colorCount       91 non-null object\n",
      "label            90 non-null object\n",
      "mostPopular      91 non-null object\n",
      "url              91 non-null object\n",
      "educational      91 non-null int64\n",
      "featureVector    91 non-null object\n",
      "dtypes: float64(3), int64(1), object(6)\n",
      "memory usage: 7.8+ KB\n"
     ]
    },
    {
     "data": {
      "text/html": [
       "<div>\n",
       "<style scoped>\n",
       "    .dataframe tbody tr th:only-of-type {\n",
       "        vertical-align: middle;\n",
       "    }\n",
       "\n",
       "    .dataframe tbody tr th {\n",
       "        vertical-align: top;\n",
       "    }\n",
       "\n",
       "    .dataframe thead th {\n",
       "        text-align: right;\n",
       "    }\n",
       "</style>\n",
       "<table border=\"1\" class=\"dataframe\">\n",
       "  <thead>\n",
       "    <tr style=\"text-align: right;\">\n",
       "      <th></th>\n",
       "      <th>_id</th>\n",
       "      <th>averageBlue</th>\n",
       "      <th>averageGreen</th>\n",
       "      <th>averageRed</th>\n",
       "      <th>colorCount</th>\n",
       "      <th>label</th>\n",
       "      <th>mostPopular</th>\n",
       "      <th>url</th>\n",
       "      <th>educational</th>\n",
       "      <th>featureVector</th>\n",
       "    </tr>\n",
       "  </thead>\n",
       "  <tbody>\n",
       "    <tr>\n",
       "      <th>61</th>\n",
       "      <td>5bece857300d3d1e28d76ad8</td>\n",
       "      <td>0.832581</td>\n",
       "      <td>0.817328</td>\n",
       "      <td>0.911253</td>\n",
       "      <td>471</td>\n",
       "      <td>m</td>\n",
       "      <td>000</td>\n",
       "      <td>https://www.gettyimages.com/</td>\n",
       "      <td>0</td>\n",
       "      <td>[0.9112531523034154, 0.8173275913423352, 0.832...</td>\n",
       "    </tr>\n",
       "    <tr>\n",
       "      <th>24</th>\n",
       "      <td>5bece448300d3d1e28d76aad</td>\n",
       "      <td>1.474992</td>\n",
       "      <td>1.465219</td>\n",
       "      <td>1.455902</td>\n",
       "      <td>292</td>\n",
       "      <td>n</td>\n",
       "      <td>777</td>\n",
       "      <td>https://happybean.naver.com/flower/brand/craft...</td>\n",
       "      <td>0</td>\n",
       "      <td>[1.4559024391006403, 1.4652191736069429, 1.474...</td>\n",
       "    </tr>\n",
       "    <tr>\n",
       "      <th>84</th>\n",
       "      <td>5bf06763faf3b3be87a3e98f</td>\n",
       "      <td>1.016379</td>\n",
       "      <td>0.545124</td>\n",
       "      <td>0.036764</td>\n",
       "      <td>68</td>\n",
       "      <td>y</td>\n",
       "      <td>024</td>\n",
       "      <td>https://www.duolingo.com/</td>\n",
       "      <td>1</td>\n",
       "      <td>[0.03676432291666667, 0.5451243681066177, 1.01...</td>\n",
       "    </tr>\n",
       "    <tr>\n",
       "      <th>65</th>\n",
       "      <td>5bece91e300d3d1e28d76add</td>\n",
       "      <td>1.394971</td>\n",
       "      <td>1.394304</td>\n",
       "      <td>1.400877</td>\n",
       "      <td>183</td>\n",
       "      <td>n</td>\n",
       "      <td>777</td>\n",
       "      <td>https://www.nfl.com/</td>\n",
       "      <td>0</td>\n",
       "      <td>[1.4008769948884032, 1.3943039107616668, 1.394...</td>\n",
       "    </tr>\n",
       "    <tr>\n",
       "      <th>98</th>\n",
       "      <td>5bf1fdf3faf3b3be87a3e9a0</td>\n",
       "      <td>1.374347</td>\n",
       "      <td>1.300397</td>\n",
       "      <td>1.267305</td>\n",
       "      <td>346</td>\n",
       "      <td>y</td>\n",
       "      <td>777</td>\n",
       "      <td>https://www.scientificamerican.com/</td>\n",
       "      <td>1</td>\n",
       "      <td>[1.2673047893419542, 1.300396515538638, 1.3743...</td>\n",
       "    </tr>\n",
       "    <tr>\n",
       "      <th>103</th>\n",
       "      <td>5c02c8d738fa0f4064808df7</td>\n",
       "      <td>1.079656</td>\n",
       "      <td>0.939087</td>\n",
       "      <td>0.834681</td>\n",
       "      <td>212</td>\n",
       "      <td>y</td>\n",
       "      <td>777</td>\n",
       "      <td>https://artofproblemsolving.com/</td>\n",
       "      <td>1</td>\n",
       "      <td>[0.8346808678057553, 0.9390872302158273, 1.079...</td>\n",
       "    </tr>\n",
       "    <tr>\n",
       "      <th>45</th>\n",
       "      <td>5bece62c300d3d1e28d76ac6</td>\n",
       "      <td>1.512421</td>\n",
       "      <td>1.515729</td>\n",
       "      <td>1.524185</td>\n",
       "      <td>387</td>\n",
       "      <td>n</td>\n",
       "      <td>777</td>\n",
       "      <td>https://www.alibaba.com/</td>\n",
       "      <td>0</td>\n",
       "      <td>[1.5241846498552167, 1.5157288687356771, 1.512...</td>\n",
       "    </tr>\n",
       "    <tr>\n",
       "      <th>110</th>\n",
       "      <td>5c0477f89661c440f365c4ba</td>\n",
       "      <td>1.750000</td>\n",
       "      <td>1.750000</td>\n",
       "      <td>1.750000</td>\n",
       "      <td>1</td>\n",
       "      <td>n</td>\n",
       "      <td>777</td>\n",
       "      <td>http://www.ikoreantv.com/board.php?board=ikore...</td>\n",
       "      <td>0</td>\n",
       "      <td>[1.75, 1.75, 1.75, 1, 777]</td>\n",
       "    </tr>\n",
       "    <tr>\n",
       "      <th>102</th>\n",
       "      <td>5bf5ad79045971ddc40a0723</td>\n",
       "      <td>1.593828</td>\n",
       "      <td>1.563627</td>\n",
       "      <td>1.461738</td>\n",
       "      <td>85</td>\n",
       "      <td>y</td>\n",
       "      <td>777</td>\n",
       "      <td>https://www.kaggle.com/</td>\n",
       "      <td>1</td>\n",
       "      <td>[1.4617379427279578, 1.563626601356443, 1.5938...</td>\n",
       "    </tr>\n",
       "    <tr>\n",
       "      <th>56</th>\n",
       "      <td>5bece75e300d3d1e28d76ad2</td>\n",
       "      <td>1.401587</td>\n",
       "      <td>1.411346</td>\n",
       "      <td>1.438633</td>\n",
       "      <td>373</td>\n",
       "      <td>n</td>\n",
       "      <td>777</td>\n",
       "      <td>https://www.daum.net/</td>\n",
       "      <td>0</td>\n",
       "      <td>[1.4386334668001335, 1.4113462629295963, 1.401...</td>\n",
       "    </tr>\n",
       "  </tbody>\n",
       "</table>\n",
       "</div>"
      ],
      "text/plain": [
       "                          _id  averageBlue  averageGreen  averageRed  \\\n",
       "61   5bece857300d3d1e28d76ad8     0.832581      0.817328    0.911253   \n",
       "24   5bece448300d3d1e28d76aad     1.474992      1.465219    1.455902   \n",
       "84   5bf06763faf3b3be87a3e98f     1.016379      0.545124    0.036764   \n",
       "65   5bece91e300d3d1e28d76add     1.394971      1.394304    1.400877   \n",
       "98   5bf1fdf3faf3b3be87a3e9a0     1.374347      1.300397    1.267305   \n",
       "103  5c02c8d738fa0f4064808df7     1.079656      0.939087    0.834681   \n",
       "45   5bece62c300d3d1e28d76ac6     1.512421      1.515729    1.524185   \n",
       "110  5c0477f89661c440f365c4ba     1.750000      1.750000    1.750000   \n",
       "102  5bf5ad79045971ddc40a0723     1.593828      1.563627    1.461738   \n",
       "56   5bece75e300d3d1e28d76ad2     1.401587      1.411346    1.438633   \n",
       "\n",
       "    colorCount label mostPopular  \\\n",
       "61         471     m         000   \n",
       "24         292     n         777   \n",
       "84          68     y         024   \n",
       "65         183     n         777   \n",
       "98         346     y         777   \n",
       "103        212     y         777   \n",
       "45         387     n         777   \n",
       "110          1     n         777   \n",
       "102         85     y         777   \n",
       "56         373     n         777   \n",
       "\n",
       "                                                   url  educational  \\\n",
       "61                        https://www.gettyimages.com/            0   \n",
       "24   https://happybean.naver.com/flower/brand/craft...            0   \n",
       "84                           https://www.duolingo.com/            1   \n",
       "65                                https://www.nfl.com/            0   \n",
       "98                 https://www.scientificamerican.com/            1   \n",
       "103                   https://artofproblemsolving.com/            1   \n",
       "45                            https://www.alibaba.com/            0   \n",
       "110  http://www.ikoreantv.com/board.php?board=ikore...            0   \n",
       "102                            https://www.kaggle.com/            1   \n",
       "56                               https://www.daum.net/            0   \n",
       "\n",
       "                                         featureVector  \n",
       "61   [0.9112531523034154, 0.8173275913423352, 0.832...  \n",
       "24   [1.4559024391006403, 1.4652191736069429, 1.474...  \n",
       "84   [0.03676432291666667, 0.5451243681066177, 1.01...  \n",
       "65   [1.4008769948884032, 1.3943039107616668, 1.394...  \n",
       "98   [1.2673047893419542, 1.300396515538638, 1.3743...  \n",
       "103  [0.8346808678057553, 0.9390872302158273, 1.079...  \n",
       "45   [1.5241846498552167, 1.5157288687356771, 1.512...  \n",
       "110                         [1.75, 1.75, 1.75, 1, 777]  \n",
       "102  [1.4617379427279578, 1.563626601356443, 1.5938...  \n",
       "56   [1.4386334668001335, 1.4113462629295963, 1.401...  "
      ]
     },
     "execution_count": 21,
     "metadata": {},
     "output_type": "execute_result"
    }
   ],
   "source": [
    "row_count = int(percent_training*float(table.shape[0]))\n",
    "training_data = table.sample(n=row_count)\n",
    "training_data.info()\n",
    "training_data.head(10)"
   ]
  },
  {
   "cell_type": "markdown",
   "metadata": {},
   "source": [
    "## Testing Data"
   ]
  },
  {
   "cell_type": "code",
   "execution_count": 20,
   "metadata": {},
   "outputs": [
    {
     "name": "stdout",
     "output_type": "stream",
     "text": [
      "<class 'pandas.core.frame.DataFrame'>\n",
      "Int64Index: 23 entries, 3 to 110\n",
      "Data columns (total 10 columns):\n",
      "_id              23 non-null object\n",
      "averageBlue      23 non-null float64\n",
      "averageGreen     23 non-null float64\n",
      "averageRed       23 non-null float64\n",
      "colorCount       23 non-null object\n",
      "label            23 non-null object\n",
      "mostPopular      23 non-null object\n",
      "url              23 non-null object\n",
      "educational      23 non-null int64\n",
      "featureVector    23 non-null object\n",
      "dtypes: float64(3), int64(1), object(6)\n",
      "memory usage: 2.0+ KB\n"
     ]
    }
   ],
   "source": [
    "training_data_ids = [_id for _id in training_data._id]\n",
    "testing_data = table[~table['_id'].isin(training_data_ids)]\n",
    "testing_data.info()"
   ]
  }
 ],
 "metadata": {
  "kernelspec": {
   "display_name": "Python 3",
   "language": "python",
   "name": "python3"
  },
  "language_info": {
   "codemirror_mode": {
    "name": "ipython",
    "version": 3
   },
   "file_extension": ".py",
   "mimetype": "text/x-python",
   "name": "python",
   "nbconvert_exporter": "python",
   "pygments_lexer": "ipython3",
   "version": "3.7.0"
  }
 },
 "nbformat": 4,
 "nbformat_minor": 2
}
