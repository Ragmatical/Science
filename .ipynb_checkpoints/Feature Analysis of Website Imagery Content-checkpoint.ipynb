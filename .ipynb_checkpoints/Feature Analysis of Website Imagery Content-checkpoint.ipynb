{
 "cells": [
  {
   "cell_type": "markdown",
   "metadata": {},
   "source": [
    "# Feature Analysis of Website Imagery Content"
   ]
  },
  {
   "cell_type": "markdown",
   "metadata": {},
   "source": [
    "## Imports"
   ]
  },
  {
   "cell_type": "code",
   "execution_count": 1,
   "metadata": {},
   "outputs": [
    {
     "name": "stderr",
     "output_type": "stream",
     "text": [
      "/home/joostin/anaconda3/lib/python3.7/site-packages/sklearn/ensemble/weight_boosting.py:29: DeprecationWarning: numpy.core.umath_tests is an internal NumPy module and should not be imported. It will be removed in a future NumPy release.\n",
      "  from numpy.core.umath_tests import inner1d\n"
     ]
    }
   ],
   "source": [
    "import numpy as pd\n",
    "import pandas as pd\n",
    "import pprint\n",
    "import os\n",
    "import pymongo\n",
    "import random\n",
    "import re\n",
    "import nltk\n",
    "from nltk.corpus import stopwords\n",
    "from IPython.core.display import display, HTML\n",
    "from bs4 import BeautifulSoup\n",
    "from pymongo import MongoClient\n",
    "from PIL import Image\n",
    "from gridfs import GridFS\n",
    "from sklearn.ensemble import RandomForestClassifier\n",
    "from numpy.core.umath_tests import inner1d"
   ]
  },
  {
   "cell_type": "markdown",
   "metadata": {},
   "source": [
    "## Inputs"
   ]
  },
  {
   "cell_type": "code",
   "execution_count": 2,
   "metadata": {},
   "outputs": [],
   "source": [
    "percent_training = 0.8\n",
    "client = MongoClient(open('../../db.txt', encoding='UTF-8').read())\n",
    "db = client.knowledge"
   ]
  },
  {
   "cell_type": "markdown",
   "metadata": {},
   "source": [
    "## Data Collection"
   ]
  },
  {
   "cell_type": "code",
   "execution_count": 3,
   "metadata": {},
   "outputs": [
    {
     "name": "stdout",
     "output_type": "stream",
     "text": [
      "                        _id  averageBlue  averageGreen  averageRed colorCount  \\\n",
      "0  5bd5202204c0591b776aeb2e     1.750000      1.750000    1.750000          1   \n",
      "1  5bd5203804c0591b776aeb2f     1.326043      1.339848    1.367402        290   \n",
      "2  5bd5267d04c0591b776aeb30     1.614444      1.593742    1.527081         39   \n",
      "3  5bd5268104c0591b776aeb31     1.593981      1.563667    1.461685         85   \n",
      "4  5bddd8d8fcab5fa6b04cb12c     1.666679      1.663924    1.660496         91   \n",
      "\n",
      "  label mostPopular                                                url  \\\n",
      "0     y         777         https://id.pausd.org/portal/p/applications   \n",
      "1     m         777                           https://www.youtube.com/   \n",
      "2     y         777  https://www.kaggle.com/juustiiiin/textscraper/...   \n",
      "3     y         777                            https://www.kaggle.com/   \n",
      "4     y         777  https://github.com/boovines/dataLabeler/blob/m...   \n",
      "\n",
      "   educational  \n",
      "0            1  \n",
      "1            0  \n",
      "2            1  \n",
      "3            1  \n",
      "4            1  \n"
     ]
    }
   ],
   "source": [
    "labels = db.labels\n",
    "\n",
    "data = labels.find({'colorCount':{'$ne':None}}, {'_id':1,'url':1,'label':1,'colorCount':1,'mostPopular':1,'averageRed':1,'averageGreen':1,'averageBlue':1})\n",
    "\n",
    "table = pd.DataFrame([item for item in data])\n",
    "table = table.assign(educational=table['label'].map(lambda r: 1 if r=='y' else 0))\n",
    "print(table.head())"
   ]
  },
  {
   "cell_type": "markdown",
   "metadata": {},
   "source": [
    "## Feature Extraction"
   ]
  },
  {
   "cell_type": "code",
   "execution_count": 4,
   "metadata": {
    "scrolled": true
   },
   "outputs": [
    {
     "name": "stdout",
     "output_type": "stream",
     "text": [
      "                        _id  averageBlue  averageGreen  averageRed colorCount  \\\n",
      "0  5bd5202204c0591b776aeb2e     1.750000      1.750000    1.750000          1   \n",
      "1  5bd5203804c0591b776aeb2f     1.326043      1.339848    1.367402        290   \n",
      "2  5bd5267d04c0591b776aeb30     1.614444      1.593742    1.527081         39   \n",
      "3  5bd5268104c0591b776aeb31     1.593981      1.563667    1.461685         85   \n",
      "4  5bddd8d8fcab5fa6b04cb12c     1.666679      1.663924    1.660496         91   \n",
      "\n",
      "  label mostPopular                                                url  \\\n",
      "0     y         777         https://id.pausd.org/portal/p/applications   \n",
      "1     m         777                           https://www.youtube.com/   \n",
      "2     y         777  https://www.kaggle.com/juustiiiin/textscraper/...   \n",
      "3     y         777                            https://www.kaggle.com/   \n",
      "4     y         777  https://github.com/boovines/dataLabeler/blob/m...   \n",
      "\n",
      "   educational                                      featureVector  \n",
      "0            1                         [1.75, 1.75, 1.75, 1, 777]  \n",
      "1            0  [1.3674016873278236, 1.3398476239669421, 1.326...  \n",
      "2            1  [1.5270810688405798, 1.5937423573369565, 1.614...  \n",
      "3            1  [1.4616849566691785, 1.5636673417483045, 1.593...  \n",
      "4            1  [1.660496116703392, 1.6639238667284322, 1.6666...  \n"
     ]
    }
   ],
   "source": [
    "def vectorizeMe(averageRed, averageGreen, averageBlue, colorCount, mostPopular):\n",
    "    return [float(averageRed), float(averageGreen), float(averageBlue), int(colorCount), int(mostPopular)]\n",
    "\n",
    "interesting_rows = [r.tolist() for r in table[['averageRed','averageGreen', 'averageBlue','colorCount', 'mostPopular'][0:5]].values]\n",
    "\n",
    "vectorized_rows = [vectorizeMe(row[0],row[1],row[2],row[3],row[4]) for row in interesting_rows]\n",
    "\n",
    "table = table.assign(featureVector=vectorized_rows)\n",
    "\n",
    "print(table.head())\n"
   ]
  },
  {
   "cell_type": "markdown",
   "metadata": {},
   "source": [
    "## Training Data"
   ]
  },
  {
   "cell_type": "code",
   "execution_count": 5,
   "metadata": {},
   "outputs": [
    {
     "data": {
      "text/html": [
       "<div>\n",
       "<style scoped>\n",
       "    .dataframe tbody tr th:only-of-type {\n",
       "        vertical-align: middle;\n",
       "    }\n",
       "\n",
       "    .dataframe tbody tr th {\n",
       "        vertical-align: top;\n",
       "    }\n",
       "\n",
       "    .dataframe thead th {\n",
       "        text-align: right;\n",
       "    }\n",
       "</style>\n",
       "<table border=\"1\" class=\"dataframe\">\n",
       "  <thead>\n",
       "    <tr style=\"text-align: right;\">\n",
       "      <th></th>\n",
       "      <th>_id</th>\n",
       "      <th>averageBlue</th>\n",
       "      <th>averageGreen</th>\n",
       "      <th>averageRed</th>\n",
       "      <th>colorCount</th>\n",
       "      <th>label</th>\n",
       "      <th>mostPopular</th>\n",
       "      <th>url</th>\n",
       "      <th>educational</th>\n",
       "      <th>featureVector</th>\n",
       "    </tr>\n",
       "  </thead>\n",
       "  <tbody>\n",
       "    <tr>\n",
       "      <th>96</th>\n",
       "      <td>5bf0ba45faf3b3be87a3e99d</td>\n",
       "      <td>1.250396</td>\n",
       "      <td>1.323959</td>\n",
       "      <td>1.283313</td>\n",
       "      <td>417</td>\n",
       "      <td>y</td>\n",
       "      <td>777</td>\n",
       "      <td>http://www.scholastic.com/home/</td>\n",
       "      <td>1</td>\n",
       "      <td>[1.2833128688854332, 1.3239590150646356, 1.250...</td>\n",
       "    </tr>\n",
       "    <tr>\n",
       "      <th>77</th>\n",
       "      <td>5beceb4e300d3d1e28d76aea</td>\n",
       "      <td>1.228517</td>\n",
       "      <td>1.325742</td>\n",
       "      <td>1.274116</td>\n",
       "      <td>239</td>\n",
       "      <td>y</td>\n",
       "      <td>777</td>\n",
       "      <td>https://www.youtube.com/watch?v=_cjV3gbex1E</td>\n",
       "      <td>1</td>\n",
       "      <td>[1.274115969581749, 1.325741840937896, 1.22851...</td>\n",
       "    </tr>\n",
       "    <tr>\n",
       "      <th>35</th>\n",
       "      <td>5bece551300d3d1e28d76abc</td>\n",
       "      <td>0.279515</td>\n",
       "      <td>0.294140</td>\n",
       "      <td>0.331234</td>\n",
       "      <td>398</td>\n",
       "      <td>n</td>\n",
       "      <td>000</td>\n",
       "      <td>https://worldofwarcraft.com/en-us/</td>\n",
       "      <td>0</td>\n",
       "      <td>[0.3312336054268232, 0.294140366385796, 0.2795...</td>\n",
       "    </tr>\n",
       "    <tr>\n",
       "      <th>20</th>\n",
       "      <td>5bece409300d3d1e28d76aa8</td>\n",
       "      <td>1.458186</td>\n",
       "      <td>1.475580</td>\n",
       "      <td>1.534983</td>\n",
       "      <td>355</td>\n",
       "      <td>m</td>\n",
       "      <td>777</td>\n",
       "      <td>https://www.bbc.com/bitesize/articles/z3c6tfr</td>\n",
       "      <td>0</td>\n",
       "      <td>[1.534983456597898, 1.4755800530362009, 1.4581...</td>\n",
       "    </tr>\n",
       "    <tr>\n",
       "      <th>112</th>\n",
       "      <td>5c04784f9661c440f365c4bc</td>\n",
       "      <td>1.526808</td>\n",
       "      <td>1.523613</td>\n",
       "      <td>1.579710</td>\n",
       "      <td>402</td>\n",
       "      <td>n</td>\n",
       "      <td>777</td>\n",
       "      <td>https://www.youtube.com/</td>\n",
       "      <td>0</td>\n",
       "      <td>[1.5797103838582678, 1.5236126968503938, 1.526...</td>\n",
       "    </tr>\n",
       "    <tr>\n",
       "      <th>37</th>\n",
       "      <td>5bece565300d3d1e28d76abe</td>\n",
       "      <td>0.485899</td>\n",
       "      <td>0.200777</td>\n",
       "      <td>0.228461</td>\n",
       "      <td>434</td>\n",
       "      <td>n</td>\n",
       "      <td>001</td>\n",
       "      <td>https://heroesofthestorm.com/en-us/</td>\n",
       "      <td>0</td>\n",
       "      <td>[0.2284613122693727, 0.20077657979704797, 0.48...</td>\n",
       "    </tr>\n",
       "    <tr>\n",
       "      <th>107</th>\n",
       "      <td>5c0477699661c440f365c4b4</td>\n",
       "      <td>1.420507</td>\n",
       "      <td>1.395796</td>\n",
       "      <td>1.400877</td>\n",
       "      <td>315</td>\n",
       "      <td>m</td>\n",
       "      <td>777</td>\n",
       "      <td>https://www.baetkd.com/</td>\n",
       "      <td>0</td>\n",
       "      <td>[1.4008773349863977, 1.3957962348035868, 1.420...</td>\n",
       "    </tr>\n",
       "    <tr>\n",
       "      <th>87</th>\n",
       "      <td>5bf068fffaf3b3be87a3e992</td>\n",
       "      <td>1.658899</td>\n",
       "      <td>1.501865</td>\n",
       "      <td>1.137447</td>\n",
       "      <td>315</td>\n",
       "      <td>y</td>\n",
       "      <td>777</td>\n",
       "      <td>https://clever.com/</td>\n",
       "      <td>1</td>\n",
       "      <td>[1.1374473509052183, 1.5018652822151224, 1.658...</td>\n",
       "    </tr>\n",
       "    <tr>\n",
       "      <th>83</th>\n",
       "      <td>5bf06742faf3b3be87a3e98e</td>\n",
       "      <td>1.716360</td>\n",
       "      <td>1.724520</td>\n",
       "      <td>1.732003</td>\n",
       "      <td>75</td>\n",
       "      <td>m</td>\n",
       "      <td>777</td>\n",
       "      <td>https://www.wolframalpha.com/</td>\n",
       "      <td>0</td>\n",
       "      <td>[1.732003443635212, 1.7245198701709943, 1.7163...</td>\n",
       "    </tr>\n",
       "    <tr>\n",
       "      <th>42</th>\n",
       "      <td>5bece5f4300d3d1e28d76ac3</td>\n",
       "      <td>1.481440</td>\n",
       "      <td>1.508867</td>\n",
       "      <td>1.507315</td>\n",
       "      <td>351</td>\n",
       "      <td>m</td>\n",
       "      <td>777</td>\n",
       "      <td>https://www.kickstarter.com/</td>\n",
       "      <td>0</td>\n",
       "      <td>[1.5073145762842202, 1.5088669832359274, 1.481...</td>\n",
       "    </tr>\n",
       "  </tbody>\n",
       "</table>\n",
       "</div>"
      ],
      "text/plain": [
       "                          _id  averageBlue  averageGreen  averageRed  \\\n",
       "96   5bf0ba45faf3b3be87a3e99d     1.250396      1.323959    1.283313   \n",
       "77   5beceb4e300d3d1e28d76aea     1.228517      1.325742    1.274116   \n",
       "35   5bece551300d3d1e28d76abc     0.279515      0.294140    0.331234   \n",
       "20   5bece409300d3d1e28d76aa8     1.458186      1.475580    1.534983   \n",
       "112  5c04784f9661c440f365c4bc     1.526808      1.523613    1.579710   \n",
       "37   5bece565300d3d1e28d76abe     0.485899      0.200777    0.228461   \n",
       "107  5c0477699661c440f365c4b4     1.420507      1.395796    1.400877   \n",
       "87   5bf068fffaf3b3be87a3e992     1.658899      1.501865    1.137447   \n",
       "83   5bf06742faf3b3be87a3e98e     1.716360      1.724520    1.732003   \n",
       "42   5bece5f4300d3d1e28d76ac3     1.481440      1.508867    1.507315   \n",
       "\n",
       "    colorCount label mostPopular  \\\n",
       "96         417     y         777   \n",
       "77         239     y         777   \n",
       "35         398     n         000   \n",
       "20         355     m         777   \n",
       "112        402     n         777   \n",
       "37         434     n         001   \n",
       "107        315     m         777   \n",
       "87         315     y         777   \n",
       "83          75     m         777   \n",
       "42         351     m         777   \n",
       "\n",
       "                                               url  educational  \\\n",
       "96                 http://www.scholastic.com/home/            1   \n",
       "77     https://www.youtube.com/watch?v=_cjV3gbex1E            1   \n",
       "35              https://worldofwarcraft.com/en-us/            0   \n",
       "20   https://www.bbc.com/bitesize/articles/z3c6tfr            0   \n",
       "112                       https://www.youtube.com/            0   \n",
       "37             https://heroesofthestorm.com/en-us/            0   \n",
       "107                        https://www.baetkd.com/            0   \n",
       "87                             https://clever.com/            1   \n",
       "83                   https://www.wolframalpha.com/            0   \n",
       "42                    https://www.kickstarter.com/            0   \n",
       "\n",
       "                                         featureVector  \n",
       "96   [1.2833128688854332, 1.3239590150646356, 1.250...  \n",
       "77   [1.274115969581749, 1.325741840937896, 1.22851...  \n",
       "35   [0.3312336054268232, 0.294140366385796, 0.2795...  \n",
       "20   [1.534983456597898, 1.4755800530362009, 1.4581...  \n",
       "112  [1.5797103838582678, 1.5236126968503938, 1.526...  \n",
       "37   [0.2284613122693727, 0.20077657979704797, 0.48...  \n",
       "107  [1.4008773349863977, 1.3957962348035868, 1.420...  \n",
       "87   [1.1374473509052183, 1.5018652822151224, 1.658...  \n",
       "83   [1.732003443635212, 1.7245198701709943, 1.7163...  \n",
       "42   [1.5073145762842202, 1.5088669832359274, 1.481...  "
      ]
     },
     "execution_count": 5,
     "metadata": {},
     "output_type": "execute_result"
    }
   ],
   "source": [
    "row_count = int(percent_training*float(table.shape[0]))\n",
    "training_data = table.sample(n=row_count)\n",
    "training_data.head(10)"
   ]
  },
  {
   "cell_type": "markdown",
   "metadata": {},
   "source": [
    "## Testing Data"
   ]
  },
  {
   "cell_type": "code",
   "execution_count": 9,
   "metadata": {},
   "outputs": [
    {
     "name": "stdout",
     "output_type": "stream",
     "text": [
      "<class 'pandas.core.frame.DataFrame'>\n",
      "Int64Index: 23 entries, 3 to 106\n",
      "Data columns (total 10 columns):\n",
      "_id              23 non-null object\n",
      "averageBlue      23 non-null float64\n",
      "averageGreen     23 non-null float64\n",
      "averageRed       23 non-null float64\n",
      "colorCount       23 non-null object\n",
      "label            23 non-null object\n",
      "mostPopular      23 non-null object\n",
      "url              23 non-null object\n",
      "educational      23 non-null int64\n",
      "featureVector    23 non-null object\n",
      "dtypes: float64(3), int64(1), object(6)\n",
      "memory usage: 2.0+ KB\n"
     ]
    }
   ],
   "source": [
    "training_data_ids = [_id for _id in training_data._id]\n",
    "testing_data = table[~table['_id'].isin(training_data_ids)]\n",
    "testing_data.info()"
   ]
  }
 ],
 "metadata": {
  "kernelspec": {
   "display_name": "Python 3",
   "language": "python",
   "name": "python3"
  },
  "language_info": {
   "codemirror_mode": {
    "name": "ipython",
    "version": 3
   },
   "file_extension": ".py",
   "mimetype": "text/x-python",
   "name": "python",
   "nbconvert_exporter": "python",
   "pygments_lexer": "ipython3",
   "version": "3.7.0"
  }
 },
 "nbformat": 4,
 "nbformat_minor": 2
}
