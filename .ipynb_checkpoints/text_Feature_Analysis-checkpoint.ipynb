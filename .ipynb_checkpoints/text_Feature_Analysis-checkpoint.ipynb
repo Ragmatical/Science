{
 "cells": [
  {
   "cell_type": "markdown",
   "metadata": {},
   "source": [
    "# Feature Analysis of Website Textual and Imagery Content"
   ]
  },
  {
   "cell_type": "markdown",
   "metadata": {},
   "source": [
    "## Imports"
   ]
  },
  {
   "cell_type": "code",
   "execution_count": 2,
   "metadata": {},
   "outputs": [],
   "source": [
    "import numpy as np\n",
    "import pandas as pd\n",
    "\n",
    "import os\n",
    "import pymongo\n",
    "import random\n",
    "import re\n",
    "import nltk\n",
    "from nltk.corpus import stopwords\n",
    "from IPython.core.display import display, HTML\n",
    "from bs4 import BeautifulSoup\n",
    "from pymongo import MongoClient\n",
    "\n"
   ]
  },
  {
   "cell_type": "markdown",
   "metadata": {},
   "source": [
    "## Word Extraction"
   ]
  },
  {
   "cell_type": "code",
   "execution_count": null,
   "metadata": {},
   "outputs": [],
   "source": [
    "client = MongoClient('mongodb://127.0.0.1/knowledge')\n",
    "db = client.test_database\n",
    "collection = db.test_collection"
   ]
  },
  {
   "cell_type": "code",
   "execution_count": null,
   "metadata": {},
   "outputs": [],
   "source": [
    "html = []\n",
    "wordList = {}\n",
    "html = html.replace('\\t',' ')\n",
    "html = html.replace('\\n',' ')\n",
    "soup = BeautifulSoup(result, 'html.parser')\n",
    "tag = [title, div, p, span, a]\n",
    "anotherList = []\n",
    "for i in tag:\n",
    "    html.push(soup.tag[i].string.split(' '))\n",
    "#count the number of times that a word occurs by scraping the list\n",
    "count = 0\n",
    "wordCount = 0\n",
    "for i in html:\n",
    "    for x in range(1,len(html)+1):\n",
    "        if html[count] == html[x]:\n",
    "            wordCount++\n",
    "            if html.length = x-1:\n",
    "                wordList.update({i:wordCount})\n",
    "    count++\n",
    "\n",
    "for z in range(len(wordList)):\n",
    "    word = wordList[wordList[z]]\n",
    "    anotherList.push(word)\n",
    "anotherList.sort()\n",
    "\n",
    "for i in anotherList:\n",
    "    while t == True:\n",
    "        "
   ]
  }
 ],
 "metadata": {
  "kernelspec": {
   "display_name": "Python 3",
   "language": "python",
   "name": "python3"
  },
  "language_info": {
   "codemirror_mode": {
    "name": "ipython",
    "version": 3
   },
   "file_extension": ".py",
   "mimetype": "text/x-python",
   "name": "python",
   "nbconvert_exporter": "python",
   "pygments_lexer": "ipython3",
   "version": "3.7.0"
  }
 },
 "nbformat": 4,
 "nbformat_minor": 2
}
